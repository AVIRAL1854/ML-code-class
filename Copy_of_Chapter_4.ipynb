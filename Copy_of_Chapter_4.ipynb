{
  "nbformat": 4,
  "nbformat_minor": 0,
  "metadata": {
    "colab": {
      "provenance": [],
      "authorship_tag": "ABX9TyOeHmotxWl9eySe3NUexzrt",
      "include_colab_link": true
    },
    "kernelspec": {
      "name": "python3",
      "display_name": "Python 3"
    },
    "language_info": {
      "name": "python"
    }
  },
  "cells": [
    {
      "cell_type": "markdown",
      "metadata": {
        "id": "view-in-github",
        "colab_type": "text"
      },
      "source": [
        "<a href=\"https://colab.research.google.com/github/AVIRAL1854/ML-code-class/blob/main/Copy_of_Chapter_4.ipynb\" target=\"_parent\"><img src=\"https://colab.research.google.com/assets/colab-badge.svg\" alt=\"Open In Colab\"/></a>"
      ]
    },
    {
      "cell_type": "code",
      "execution_count": null,
      "metadata": {
        "id": "WIe1HlhDScC2"
      },
      "outputs": [],
      "source": [
        "# regression\n",
        "# y=mx+c.\n",
        "# we have to get the m and c by trainning the value.\n",
        "#  we have to get theleast value of cost function that is RMSE or RMS of the values of m and c.\n",
        "# this is for github push ---\n",
        "\n",
        "# y=m(theta)\n",
        "# there are multiple iteration to make the model run and now at every stage of the iteration you slightly tweak the model during learning\n"
      ]
    },
    {
      "cell_type": "code",
      "source": [
        "import numpy as np\n",
        "import matplotlib.pyplot as plt\n",
        "x=2*np.random.rand(100,1)\n",
        "y=4+3*x+np.random.randn(100,1)\n",
        "plt.plot(x,y,\"b.\")\n",
        "plt.show()"
      ],
      "metadata": {
        "colab": {
          "base_uri": "https://localhost:8080/",
          "height": 430
        },
        "id": "PXJPUWC-ayGv",
        "outputId": "d7cbf03c-ff13-4c95-b8a2-c8b2f992ba30"
      },
      "execution_count": null,
      "outputs": [
        {
          "output_type": "display_data",
          "data": {
            "text/plain": [
              "<Figure size 640x480 with 1 Axes>"
            ],
            "image/png": "[encoded data removed]"
          },
          "metadata": {}
        }
      ]
    },
    {
      "cell_type": "code",
      "source": [
        "# gradient descent\n",
        "\n",
        "# update theta = old theta +or - n slope\n",
        "\n",
        "\n",
        "# Note : slope can we postive and can be negative\n",
        "# here n is the learning rate\n",
        "# we are learning here with the target and this can be only possible with the help of the supervised learning\n",
        "# we are finding value of theta where the error is minimum\n",
        "\n",
        "# ---------------------------->\n",
        "\n",
        "# DIFFERENT TIME WHEN WE STOPS DOING ITERATION\n",
        "# 1) we stop the iteration when value of theta is increased but the change in value of error stops\n",
        "# 2) we also top iteration when we cant change the value of theta (means we are dealing with the flat surface)  hence the value of error becomes constant\n",
        "\n",
        "# ---------------------------->\n",
        "\n",
        "\n",
        "\n",
        "\n",
        "# here we are talking about the SLOPE of the GRADIENT DESCENT (CONDITION : the slope\n",
        "#  in reaching local minimum and then there is sudden increase value of the error but there is some other global minima)\n",
        "\n",
        "\n",
        "# declare a tolerance means after getting a minimum then continue iterating to some iterations and then check the trend\n",
        "\n",
        "\n",
        "# GRADIENT DESCENT FAILS in the flat and here tolerance also fails since the value of theta stops changing then slope becomes constant\n",
        "\n",
        "\n",
        "# ------------------------->\n",
        "# if we lower the learning rate then number of iterations increases\n",
        "# if we increase the learning rate then it may miss the minimum value of theta"
      ],
      "metadata": {
        "id": "xthBmXwmbERB"
      },
      "execution_count": 2,
      "outputs": []
    }
  ]
}